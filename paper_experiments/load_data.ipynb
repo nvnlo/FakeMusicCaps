{
 "cells": [
  {
   "cell_type": "code",
   "execution_count": 6,
   "metadata": {},
   "outputs": [],
   "source": [
    "# !gcloud auth application-default login"
   ]
  },
  {
   "cell_type": "code",
   "execution_count": 4,
   "metadata": {},
   "outputs": [],
   "source": [
    "import os\n",
    "from google.cloud import storage\n",
    "\n",
    "# Initialize GCS client\n",
    "storage_client = storage.Client()\n",
    "\n",
    "# Update paths to GCS bucket paths\n",
    "BUCKET_NAME = \"music-caps\"\n",
    "SUNOCAPS_PATH = \"FakeMusicCaps/SunoCaps\"\n",
    "DATASET_PATH = \"FakeMusicCaps\""
   ]
  },
  {
   "cell_type": "code",
   "execution_count": 7,
   "metadata": {},
   "outputs": [
    {
     "name": "stdout",
     "output_type": "stream",
     "text": [
      "Listing contents of bucket...\n",
      "\n",
      "Files in MusicCaps:\n",
      "  - FakeMusicCaps/MusicCaps/-0Gj8-vB1q4.wav\n",
      "  - FakeMusicCaps/MusicCaps/-0SdAVK79lg.wav\n",
      "  - FakeMusicCaps/MusicCaps/-0vPFx-wRRI.wav\n",
      "  - FakeMusicCaps/MusicCaps/-0xzrMun0Rs.wav\n",
      "  - FakeMusicCaps/MusicCaps/-1LrH01Ei1w.wav\n",
      "\n",
      "Files in MusicGen_medium:\n",
      "  - FakeMusicCaps/MusicGen_medium/-0Gj8-vB1q4.wav\n",
      "  - FakeMusicCaps/MusicGen_medium/-0SdAVK79lg.wav\n",
      "  - FakeMusicCaps/MusicGen_medium/-0vPFx-wRRI.wav\n",
      "  - FakeMusicCaps/MusicGen_medium/-0xzrMun0Rs.wav\n",
      "  - FakeMusicCaps/MusicGen_medium/-1LrH01Ei1w.wav\n",
      "\n",
      "Files in musicldm:\n",
      "  - FakeMusicCaps/musicldm/-0Gj8-vB1q4.wav\n",
      "  - FakeMusicCaps/musicldm/-0SdAVK79lg.wav\n",
      "  - FakeMusicCaps/musicldm/-0vPFx-wRRI.wav\n",
      "  - FakeMusicCaps/musicldm/-0xzrMun0Rs.wav\n",
      "  - FakeMusicCaps/musicldm/-1LrH01Ei1w.wav\n",
      "\n",
      "Files in audioldm2:\n",
      "  - FakeMusicCaps/audioldm2/-0Gj8-vB1q4.wav\n",
      "  - FakeMusicCaps/audioldm2/-0SdAVK79lg.wav\n",
      "  - FakeMusicCaps/audioldm2/-0vPFx-wRRI.wav\n",
      "  - FakeMusicCaps/audioldm2/-0xzrMun0Rs.wav\n",
      "  - FakeMusicCaps/audioldm2/-1LrH01Ei1w.wav\n",
      "\n",
      "Files in stable_audio_open:\n",
      "  - FakeMusicCaps/stable_audio_open/-0Gj8-vB1q4.wav\n",
      "  - FakeMusicCaps/stable_audio_open/-0SdAVK79lg.wav\n",
      "  - FakeMusicCaps/stable_audio_open/-0vPFx-wRRI.wav\n",
      "  - FakeMusicCaps/stable_audio_open/-0xzrMun0Rs.wav\n",
      "  - FakeMusicCaps/stable_audio_open/-1LrH01Ei1w.wav\n",
      "\n",
      "Files in mustango:\n",
      "  - FakeMusicCaps/mustango/-0Gj8-vB1q4.wav\n",
      "  - FakeMusicCaps/mustango/-0SdAVK79lg.wav\n",
      "  - FakeMusicCaps/mustango/-0vPFx-wRRI.wav\n",
      "  - FakeMusicCaps/mustango/-0xzrMun0Rs.wav\n",
      "  - FakeMusicCaps/mustango/-1LrH01Ei1w.wav\n"
     ]
    }
   ],
   "source": [
    "# Get a bucket\n",
    "bucket = storage_client.bucket(BUCKET_NAME)\n",
    "\n",
    "# Helper function to list files in GCS\n",
    "def list_gcs_files(prefix):\n",
    "    blobs = bucket.list_blobs(prefix=prefix)\n",
    "    return [blob.name for blob in blobs]\n",
    "\n",
    "# List available models/folders\n",
    "print(\"Listing contents of bucket...\")\n",
    "models_names = ['MusicCaps', 'MusicGen_medium', 'musicldm', 'audioldm2', 'stable_audio_open', 'mustango']\n",
    "\n",
    "# Print structure of data\n",
    "for name in models_names:\n",
    "    print(f\"\\nFiles in {name}:\")\n",
    "    model_files = list_gcs_files(f\"{DATASET_PATH}/{name}\")\n",
    "    # print first 5 files as example\n",
    "    for file_path in model_files[:5]:\n",
    "        print(f\"  - {file_path}\")\n"
   ]
  },
  {
   "cell_type": "code",
   "execution_count": null,
   "metadata": {},
   "outputs": [
    {
     "ename": "ModuleNotFoundError",
     "evalue": "No module named 'torch'",
     "output_type": "error",
     "traceback": [
      "\u001b[0;31m---------------------------------------------------------------------------\u001b[0m",
      "\u001b[0;31mModuleNotFoundError\u001b[0m                       Traceback (most recent call last)",
      "Cell \u001b[0;32mIn[12], line 2\u001b[0m\n\u001b[1;32m      1\u001b[0m \u001b[38;5;28;01mimport\u001b[39;00m \u001b[38;5;21;01mio\u001b[39;00m\n\u001b[0;32m----> 2\u001b[0m \u001b[38;5;28;01mimport\u001b[39;00m \u001b[38;5;21;01mtorch\u001b[39;00m\n\u001b[1;32m      3\u001b[0m \u001b[38;5;28;01mimport\u001b[39;00m \u001b[38;5;21;01mtorchaudio\u001b[39;00m\n\u001b[1;32m      4\u001b[0m \u001b[38;5;28;01mimport\u001b[39;00m \u001b[38;5;21;01mmatplotlib\u001b[39;00m\u001b[38;5;21;01m.\u001b[39;00m\u001b[38;5;21;01mpyplot\u001b[39;00m \u001b[38;5;28;01mas\u001b[39;00m \u001b[38;5;21;01mplt\u001b[39;00m\n",
      "\u001b[0;31mModuleNotFoundError\u001b[0m: No module named 'torch'"
     ]
    }
   ],
   "source": [
    "import io\n",
    "import torch\n",
    "import torchaudio\n",
    "import matplotlib.pyplot as plt\n",
    "import numpy as np\n",
    "from google.cloud import storage\n",
    "\n",
    "# Specific file path\n",
    "file_path = \"FakeMusicCaps/MusicGen_medium/-0Gj8-vB1q4.wav\"\n",
    "BUCKET_NAME = \"music-caps\"\n",
    "\n",
    "def visualize_gcs_audio(bucket_name, file_path):\n",
    "    # Get the blob\n",
    "    storage_client = storage.Client()\n",
    "    bucket = storage_client.bucket(bucket_name)\n",
    "    blob = bucket.blob(file_path)\n",
    "    \n",
    "    # Download the audio data\n",
    "    audio_bytes = blob.download_as_bytes()\n",
    "    \n",
    "    # Load audio with torchaudio\n",
    "    audio_tensor, sample_rate = torchaudio.load(io.BytesIO(audio_bytes))\n",
    "    # Convert to numpy for plotting\n",
    "    audio_data = audio_tensor.numpy().squeeze()\n",
    "    \n",
    "    # Plot waveform\n",
    "    plt.figure(figsize=(15, 5))\n",
    "    plt.plot(audio_data)\n",
    "    plt.title(f\"Waveform: {file_path.split('/')[-1]}\")\n",
    "    plt.xlabel(\"Sample\")\n",
    "    plt.ylabel(\"Amplitude\")\n",
    "    plt.show()\n",
    "    \n",
    "    # Print audio info\n",
    "    print(f\"Sample rate: {sample_rate} Hz\")\n",
    "    print(f\"Duration: {len(audio_data)/sample_rate:.2f} seconds\")\n",
    "    print(f\"Max amplitude: {np.max(np.abs(audio_data)):.2f}\")\n",
    "\n",
    "# Visualize the specific file\n",
    "visualize_gcs_audio(BUCKET_NAME, file_path)"
   ]
  }
 ],
 "metadata": {
  "language_info": {
   "name": "python"
  }
 },
 "nbformat": 4,
 "nbformat_minor": 2
}
